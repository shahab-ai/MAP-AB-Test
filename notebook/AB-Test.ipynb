{
 "cells": [
  {
   "cell_type": "markdown",
   "metadata": {},
   "source": [
    "Data\n",
    "\n",
    "The file AB-Test.csv contains fictitious data from a Maps Search A/B Experiment where users are randomly assigned to either branch A or branch B with equal probability. The main metric of the experiment is whether users clicked on one of the search results.\n",
    "\n",
    "Variables\n",
    "* Branch: Indicates branches of an A/B experiment\n",
    "* iOS: iOS version on device\n",
    "* Country: country where user is located (US = United States; UK = United Kingdom; JP = Japan)\n",
    "* Distance: distance between user and the closest returned result (in miles)\n",
    "* Click.Through: whether user clicked on any of the returned results (0 = no; 1 = yes)\n",
    "\n",
    "Questions\n",
    "* Is branch B significantly better than branch A? Why?\n",
    "* Any observations you want to comment on?"
   ]
  },
  {
   "cell_type": "markdown",
   "metadata": {},
   "source": [
    "#### Import libraries needed"
   ]
  },
  {
   "cell_type": "code",
   "execution_count": 1,
   "metadata": {},
   "outputs": [],
   "source": [
    "import numpy as np\n",
    "import pandas as pd\n",
    "import os\n",
    "\n",
    "from scipy import stats\n",
    "from statsmodels.stats.weightstats import ttest_ind as sm_ttest\n",
    "from statsmodels.stats.weightstats import zconfint as sm_confint\n",
    "\n",
    "from sklearn.preprocessing import LabelEncoder, OneHotEncoder\n",
    "from sklearn.tree import DecisionTreeClassifier, export_graphviz, DecisionTreeRegressor\n",
    "\n",
    "import matplotlib.pyplot as plt\n",
    "import matplotlib.dates as mdates\n",
    "import seaborn as sns\n",
    "from pylab import rcParams\n",
    "from pydotplus import graph_from_dot_data\n",
    "from IPython.display import Image\n",
    "\n",
    "%matplotlib inline\n",
    "rcParams['figure.figsize'] = 10,8\n",
    "sns.set_style('darkgrid')"
   ]
  },
  {
   "cell_type": "code",
   "execution_count": 2,
   "metadata": {},
   "outputs": [],
   "source": [
    "np.set_printoptions(precision=2)\n",
    "pd.set_option('precision',2)"
   ]
  },
  {
   "cell_type": "markdown",
   "metadata": {},
   "source": [
    "#### Read data"
   ]
  },
  {
   "cell_type": "code",
   "execution_count": 3,
   "metadata": {},
   "outputs": [],
   "source": [
    "data = pd.read_csv('../input/AB-Test.csv')"
   ]
  },
  {
   "cell_type": "code",
   "execution_count": 4,
   "metadata": {},
   "outputs": [
    {
     "data": {
      "text/html": [
       "<div>\n",
       "<style scoped>\n",
       "    .dataframe tbody tr th:only-of-type {\n",
       "        vertical-align: middle;\n",
       "    }\n",
       "\n",
       "    .dataframe tbody tr th {\n",
       "        vertical-align: top;\n",
       "    }\n",
       "\n",
       "    .dataframe thead th {\n",
       "        text-align: right;\n",
       "    }\n",
       "</style>\n",
       "<table border=\"1\" class=\"dataframe\">\n",
       "  <thead>\n",
       "    <tr style=\"text-align: right;\">\n",
       "      <th></th>\n",
       "      <th>Branch</th>\n",
       "      <th>iOS</th>\n",
       "      <th>Country</th>\n",
       "      <th>Distance</th>\n",
       "      <th>Click.Through</th>\n",
       "    </tr>\n",
       "  </thead>\n",
       "  <tbody>\n",
       "    <tr>\n",
       "      <th>0</th>\n",
       "      <td>A</td>\n",
       "      <td>10</td>\n",
       "      <td>US</td>\n",
       "      <td>15</td>\n",
       "      <td>0</td>\n",
       "    </tr>\n",
       "    <tr>\n",
       "      <th>1</th>\n",
       "      <td>A</td>\n",
       "      <td>10</td>\n",
       "      <td>UK</td>\n",
       "      <td>24</td>\n",
       "      <td>0</td>\n",
       "    </tr>\n",
       "    <tr>\n",
       "      <th>2</th>\n",
       "      <td>A</td>\n",
       "      <td>11</td>\n",
       "      <td>US</td>\n",
       "      <td>19</td>\n",
       "      <td>1</td>\n",
       "    </tr>\n",
       "    <tr>\n",
       "      <th>3</th>\n",
       "      <td>B</td>\n",
       "      <td>10</td>\n",
       "      <td>UK</td>\n",
       "      <td>6</td>\n",
       "      <td>0</td>\n",
       "    </tr>\n",
       "    <tr>\n",
       "      <th>4</th>\n",
       "      <td>A</td>\n",
       "      <td>11</td>\n",
       "      <td>US</td>\n",
       "      <td>20</td>\n",
       "      <td>0</td>\n",
       "    </tr>\n",
       "  </tbody>\n",
       "</table>\n",
       "</div>"
      ],
      "text/plain": [
       "  Branch  iOS Country  Distance  Click.Through\n",
       "0      A   10      US        15              0\n",
       "1      A   10      UK        24              0\n",
       "2      A   11      US        19              1\n",
       "3      B   10      UK         6              0\n",
       "4      A   11      US        20              0"
      ]
     },
     "execution_count": 4,
     "metadata": {},
     "output_type": "execute_result"
    }
   ],
   "source": [
    "data.head()"
   ]
  },
  {
   "cell_type": "code",
   "execution_count": 5,
   "metadata": {},
   "outputs": [],
   "source": [
    "cat_columns = ['Branch', 'iOS', 'Country', 'Click.Through']"
   ]
  },
  {
   "cell_type": "code",
   "execution_count": 6,
   "metadata": {},
   "outputs": [
    {
     "name": "stdout",
     "output_type": "stream",
     "text": [
      "<class 'pandas.core.frame.DataFrame'>\n",
      "RangeIndex: 1000 entries, 0 to 999\n",
      "Data columns (total 5 columns):\n",
      "Branch           1000 non-null object\n",
      "iOS              1000 non-null int64\n",
      "Country          1000 non-null object\n",
      "Distance         1000 non-null int64\n",
      "Click.Through    1000 non-null int64\n",
      "dtypes: int64(3), object(2)\n",
      "memory usage: 39.1+ KB\n"
     ]
    }
   ],
   "source": [
    "data.info()"
   ]
  },
  {
   "cell_type": "code",
   "execution_count": 7,
   "metadata": {},
   "outputs": [
    {
     "name": "stdout",
     "output_type": "stream",
     "text": [
      "<class 'pandas.core.frame.DataFrame'>\n",
      "RangeIndex: 1000 entries, 0 to 999\n",
      "Data columns (total 5 columns):\n",
      "Branch           1000 non-null category\n",
      "iOS              1000 non-null category\n",
      "Country          1000 non-null category\n",
      "Distance         1000 non-null int64\n",
      "Click.Through    1000 non-null category\n",
      "dtypes: category(4), int64(1)\n",
      "memory usage: 12.2 KB\n"
     ]
    }
   ],
   "source": [
    "data.loc[:,cat_columns] = data.loc[:, cat_columns].astype('category')\n",
    "data.info()"
   ]
  },
  {
   "cell_type": "markdown",
   "metadata": {},
   "source": [
    "#### Have a deeper look into statistics of the data"
   ]
  },
  {
   "cell_type": "code",
   "execution_count": 8,
   "metadata": {},
   "outputs": [
    {
     "name": "stdout",
     "output_type": "stream",
     "text": [
      "       Distance\n",
      "count   1000.00\n",
      "mean      12.45\n",
      "std        8.20\n",
      "min        0.00\n",
      "25%        5.00\n",
      "50%       11.00\n",
      "75%       20.00\n",
      "max       32.00\n",
      "----------------------------------------\n",
      "A    501\n",
      "B    499\n",
      "Name: Branch, dtype: int64\n",
      "----------------------------------------\n",
      "11    582\n",
      "10    418\n",
      "Name: iOS, dtype: int64\n",
      "----------------------------------------\n",
      "US    745\n",
      "UK    192\n",
      "JP     63\n",
      "Name: Country, dtype: int64\n",
      "----------------------------------------\n",
      "0    682\n",
      "1    318\n",
      "Name: Click.Through, dtype: int64\n",
      "----------------------------------------\n"
     ]
    }
   ],
   "source": [
    "print data.describe()\n",
    "print '----------------------------------------'\n",
    "for col in cat_columns:\n",
    "    print data[col].value_counts()\n",
    "    print '----------------------------------------'"
   ]
  },
  {
   "cell_type": "code",
   "execution_count": 9,
   "metadata": {},
   "outputs": [
    {
     "data": {
      "text/html": [
       "<div>\n",
       "<style scoped>\n",
       "    .dataframe tbody tr th:only-of-type {\n",
       "        vertical-align: middle;\n",
       "    }\n",
       "\n",
       "    .dataframe tbody tr th {\n",
       "        vertical-align: top;\n",
       "    }\n",
       "\n",
       "    .dataframe thead th {\n",
       "        text-align: right;\n",
       "    }\n",
       "</style>\n",
       "<table border=\"1\" class=\"dataframe\">\n",
       "  <thead>\n",
       "    <tr style=\"text-align: right;\">\n",
       "      <th></th>\n",
       "      <th>Click.Through</th>\n",
       "    </tr>\n",
       "    <tr>\n",
       "      <th>Country</th>\n",
       "      <th></th>\n",
       "    </tr>\n",
       "  </thead>\n",
       "  <tbody>\n",
       "    <tr>\n",
       "      <th>US</th>\n",
       "      <td>0.30</td>\n",
       "    </tr>\n",
       "    <tr>\n",
       "      <th>UK</th>\n",
       "      <td>0.29</td>\n",
       "    </tr>\n",
       "    <tr>\n",
       "      <th>JP</th>\n",
       "      <td>0.28</td>\n",
       "    </tr>\n",
       "  </tbody>\n",
       "</table>\n",
       "</div>"
      ],
      "text/plain": [
       "         Click.Through\n",
       "Country               \n",
       "US                0.30\n",
       "UK                0.29\n",
       "JP                0.28"
      ]
     },
     "execution_count": 9,
     "metadata": {},
     "output_type": "execute_result"
    }
   ],
   "source": [
    "data['Click.Through'] = data['Click.Through'].astype('int')\n",
    "data_conversion_country = (data.loc[data['Branch']=='A', \n",
    "                                    ['Country', 'Click.Through']]\n",
    "                           .groupby('Country')\n",
    "                           .mean()\n",
    "                           .sort_values('Click.Through', ascending=False)\n",
    "                          )\n",
    "data_conversion_country.head()"
   ]
  },
  {
   "cell_type": "markdown",
   "metadata": {},
   "source": [
    "All countries have similar more or less similar conversion rates before test."
   ]
  },
  {
   "cell_type": "code",
   "execution_count": 10,
   "metadata": {},
   "outputs": [
    {
     "data": {
      "text/html": [
       "<div>\n",
       "<style scoped>\n",
       "    .dataframe tbody tr th:only-of-type {\n",
       "        vertical-align: middle;\n",
       "    }\n",
       "\n",
       "    .dataframe tbody tr th {\n",
       "        vertical-align: top;\n",
       "    }\n",
       "\n",
       "    .dataframe thead th {\n",
       "        text-align: right;\n",
       "    }\n",
       "</style>\n",
       "<table border=\"1\" class=\"dataframe\">\n",
       "  <thead>\n",
       "    <tr style=\"text-align: right;\">\n",
       "      <th></th>\n",
       "      <th>Click.Through</th>\n",
       "    </tr>\n",
       "    <tr>\n",
       "      <th>iOS</th>\n",
       "      <th></th>\n",
       "    </tr>\n",
       "  </thead>\n",
       "  <tbody>\n",
       "    <tr>\n",
       "      <th>10</th>\n",
       "      <td>0.36</td>\n",
       "    </tr>\n",
       "    <tr>\n",
       "      <th>11</th>\n",
       "      <td>0.27</td>\n",
       "    </tr>\n",
       "  </tbody>\n",
       "</table>\n",
       "</div>"
      ],
      "text/plain": [
       "     Click.Through\n",
       "iOS               \n",
       "10            0.36\n",
       "11            0.27"
      ]
     },
     "execution_count": 10,
     "metadata": {},
     "output_type": "execute_result"
    }
   ],
   "source": [
    "data_conversion_ios = (data.loc[data['Branch']=='A', \n",
    "                                    ['iOS', 'Click.Through']]\n",
    "                           .groupby('iOS')\n",
    "                           .mean()\n",
    "                           .sort_values('Click.Through', ascending=False)\n",
    "                          )\n",
    "data_conversion_ios.head()"
   ]
  },
  {
   "cell_type": "markdown",
   "metadata": {},
   "source": [
    "There is a higher conversion rate on iOS 10 before the test"
   ]
  },
  {
   "cell_type": "code",
   "execution_count": 11,
   "metadata": {},
   "outputs": [
    {
     "name": "stdout",
     "output_type": "stream",
     "text": [
      "Branch     A    B\n",
      "Country          \n",
      "JP        32   31\n",
      "UK        95   97\n",
      "US       374  371\n",
      "----------------------------------------\n",
      "Country  JP  UK   US\n",
      "Branch              \n",
      "A        32  95  374\n",
      "B        31  97  371\n"
     ]
    }
   ],
   "source": [
    "print data.groupby(['Country', 'Branch']).size().unstack()\n",
    "print '----------------------------------------'\n",
    "print data.groupby(['Country', 'Branch']).size().unstack().pivot_table(columns='Country')"
   ]
  },
  {
   "cell_type": "code",
   "execution_count": 12,
   "metadata": {},
   "outputs": [
    {
     "data": {
      "image/png": "[encoded data removed]",
      "text/plain": [
       "<Figure size 1008x504 with 2 Axes>"
      ]
     },
     "metadata": {},
     "output_type": "display_data"
    }
   ],
   "source": [
    "(data.groupby(['Country', 'Branch']).size()\n",
    "     .unstack().plot.pie(subplots=True, \n",
    "                         figsize=[14,7], \n",
    "                         autopct='%.2f'));"
   ]
  },
  {
   "cell_type": "code",
   "execution_count": 13,
   "metadata": {},
   "outputs": [
    {
     "data": {
      "image/png": "[encoded data removed]",
      "text/plain": [
       "<Figure size 1080x360 with 3 Axes>"
      ]
     },
     "metadata": {},
     "output_type": "display_data"
    }
   ],
   "source": [
    "(data.groupby(['Country', 'Branch']).size()\n",
    "     .unstack().pivot_table(columns='Country')\n",
    "     .plot.pie(subplots=True, figsize=[15,5], \n",
    "               autopct='%.2f'));"
   ]
  },
  {
   "cell_type": "markdown",
   "metadata": {},
   "source": [
    "#### \"Naively\" testing which branch is better when considering all the data using Welch two sample t-test:"
   ]
  },
  {
   "cell_type": "code",
   "execution_count": 14,
   "metadata": {},
   "outputs": [
    {
     "name": "stdout",
     "output_type": "stream",
     "text": [
      "----------------------------------------\n",
      "t =  -1.4012405898295925 , df =  998.0 , p-value =  0.1614530223132519\n",
      "\n",
      "95 percent confidence interval:\n",
      "(-0.0990009789161296, 0.016456648738808838)\n",
      "\n",
      "sample estimates:\n",
      "mean of A =  29.7% , mean of B =  33.9%\n",
      "----------------------------------------\n"
     ]
    }
   ],
   "source": [
    "tstat , pvalue, df  = sm_ttest(data[data.Branch=='A']['Click.Through'], \n",
    "                               data[data.Branch=='B']['Click.Through'])\n",
    "print '----------------------------------------'\n",
    "print 't = ', tstat , ', df = ', df, ', p-value = ', pvalue\n",
    "print\n",
    "print '95 percent confidence interval:'\n",
    "print sm_confint(data[data.Branch=='A']['Click.Through'], \n",
    "                 data[data.Branch=='B']['Click.Through']\n",
    "                )\n",
    "print\n",
    "print 'sample estimates:'\n",
    "print 'mean of A = ', str(round(data[data.Branch=='A']['Click.Through'].mean()*100, 1)) + '%', ', mean of B = ', str(round(data[data.Branch=='B']['Click.Through'].mean()*100, 1)) + '%'\n",
    "print '----------------------------------------'\n",
    "# print (data[data.Branch=='B']['Click.Through'].mean()*100 - data[data.Branch=='A']['Click.Through'].mean()*100)/data[data.Branch=='A']['Click.Through'].mean()"
   ]
  },
  {
   "cell_type": "markdown",
   "metadata": {},
   "source": [
    "The average conversion for users in group A is about 29.7% and the average for group B users is about 33.9%. This is about 14% increase in the conversion rate. This would normally be a significant increase in conversion. However the p-value of the t-test is large (>0.05) which indicates that the increase was not statistically significant. The most likely reason for such A/B results is the **not having enough data**. Anyhow we also need to check our results for any possible bias in our test/control sampling.\n",
    "\n",
    "Firstly, let’s plot conversion rate within each country and for each iOS version, to see if the result stays the same."
   ]
  },
  {
   "cell_type": "markdown",
   "metadata": {},
   "source": [
    "#### Plot conversion rate vs country"
   ]
  },
  {
   "cell_type": "code",
   "execution_count": 15,
   "metadata": {},
   "outputs": [
    {
     "data": {
      "text/plain": [
       "<matplotlib.axes._subplots.AxesSubplot at 0x112ef0ad0>"
      ]
     },
     "execution_count": 15,
     "metadata": {},
     "output_type": "execute_result"
    },
    {
     "data": {
      "image/png": "[encoded data removed]",
      "text/plain": [
       "<Figure size 432x288 with 1 Axes>"
      ]
     },
     "metadata": {},
     "output_type": "display_data"
    }
   ],
   "source": [
    "data_test_by_country = pd.DataFrame(data[data.Branch=='B']\n",
    "                                .groupby('Country')\n",
    "                                .mean()['Click.Through']\n",
    "                                /data[data.Branch=='A']\n",
    "                                .groupby('Country')\n",
    "                                    .mean()['Click.Through'])\n",
    "data_test_by_country.columns = ['test_vs_control']\n",
    "\n",
    "# plt.plot(data_test_by_country.index, data_test_by_country.test_vs_control)\n",
    "# plt.xlabel('Country');\n",
    "# plt.ylabel('test_vs_control');\n",
    "data_test_by_country.plot.bar()"
   ]
  },
  {
   "cell_type": "markdown",
   "metadata": {},
   "source": [
    "#### Plot conversion rate vs iOS version"
   ]
  },
  {
   "cell_type": "code",
   "execution_count": 16,
   "metadata": {},
   "outputs": [
    {
     "data": {
      "text/plain": [
       "<matplotlib.axes._subplots.AxesSubplot at 0x115b50110>"
      ]
     },
     "execution_count": 16,
     "metadata": {},
     "output_type": "execute_result"
    },
    {
     "data": {
      "image/png": "[encoded data removed]",
      "text/plain": [
       "<Figure size 432x288 with 1 Axes>"
      ]
     },
     "metadata": {},
     "output_type": "display_data"
    }
   ],
   "source": [
    "data_test_by_ios = pd.DataFrame(data[data.Branch=='B']\n",
    "                                .groupby('iOS')\n",
    "                                .mean()['Click.Through']\n",
    "                                /data[data.Branch=='A']\n",
    "                                .groupby('iOS')\n",
    "                                    .mean()['Click.Through'])\n",
    "data_test_by_ios.columns = ['test_vs_control']\n",
    "\n",
    "# plt.plot(data_test_by_ios.index, data_test_by_ios.test_vs_control);\n",
    "# plt.xlabel('iOS version');\n",
    "# plt.ylabel('test_vs_control');\n",
    "data_test_by_ios.plot.bar()"
   ]
  },
  {
   "cell_type": "markdown",
   "metadata": {},
   "source": [
    "From the plot, we notice a couple of things:\n",
    "\n",
    "1. The effect of the test hasn't been the same across all contries. The test seems to be working much better for Japanese users, then UK, and finally had the least improvment for US users. More specifically, the success for Japanese users looks like too good to be true. This indicates higher possibility of bias in our sampling.\n",
    "\n",
    "2. The test has been more effective for users with iOS 11. Although initially iOS 10 users had higher conversion rate, but the experiment was more effective for iOS 11 users.\n",
    "\n",
    "Next, we will look at bias. There might be some segment of users that are more likely be picked as a test (i.e. 'B') or as a control ('A'). This segment may then have a significantly above/below conversion rate which would affect the overall results.\n",
    "\n",
    "In an ideal world, the distribution of people in test and control for each segment should be the same. This may be checked by building a decision tree classifier where the features are user dimensions and the outcome variable is whether the user was in test or control. If the tree splits, it means that for given values of that variable you are more likely to end up in test or control. This should not happen if the randomization were correctly done, and the tree should not split at all (or at least not be able to separate the two classes well).\n",
    "\n",
    "Let’s check this:"
   ]
  },
  {
   "cell_type": "code",
   "execution_count": 17,
   "metadata": {},
   "outputs": [],
   "source": [
    "X = data.drop(labels=['Click.Through', 'Branch'],axis=1)\n",
    "y = data['Branch']"
   ]
  },
  {
   "cell_type": "code",
   "execution_count": 18,
   "metadata": {},
   "outputs": [
    {
     "data": {
      "text/html": [
       "<div>\n",
       "<style scoped>\n",
       "    .dataframe tbody tr th:only-of-type {\n",
       "        vertical-align: middle;\n",
       "    }\n",
       "\n",
       "    .dataframe tbody tr th {\n",
       "        vertical-align: top;\n",
       "    }\n",
       "\n",
       "    .dataframe thead th {\n",
       "        text-align: right;\n",
       "    }\n",
       "</style>\n",
       "<table border=\"1\" class=\"dataframe\">\n",
       "  <thead>\n",
       "    <tr style=\"text-align: right;\">\n",
       "      <th></th>\n",
       "      <th>iOS</th>\n",
       "      <th>Country</th>\n",
       "      <th>Distance</th>\n",
       "    </tr>\n",
       "  </thead>\n",
       "  <tbody>\n",
       "    <tr>\n",
       "      <th>0</th>\n",
       "      <td>10</td>\n",
       "      <td>US</td>\n",
       "      <td>15</td>\n",
       "    </tr>\n",
       "    <tr>\n",
       "      <th>1</th>\n",
       "      <td>10</td>\n",
       "      <td>UK</td>\n",
       "      <td>24</td>\n",
       "    </tr>\n",
       "    <tr>\n",
       "      <th>2</th>\n",
       "      <td>11</td>\n",
       "      <td>US</td>\n",
       "      <td>19</td>\n",
       "    </tr>\n",
       "    <tr>\n",
       "      <th>3</th>\n",
       "      <td>10</td>\n",
       "      <td>UK</td>\n",
       "      <td>6</td>\n",
       "    </tr>\n",
       "    <tr>\n",
       "      <th>4</th>\n",
       "      <td>11</td>\n",
       "      <td>US</td>\n",
       "      <td>20</td>\n",
       "    </tr>\n",
       "  </tbody>\n",
       "</table>\n",
       "</div>"
      ],
      "text/plain": [
       "  iOS Country  Distance\n",
       "0  10      US        15\n",
       "1  10      UK        24\n",
       "2  11      US        19\n",
       "3  10      UK         6\n",
       "4  11      US        20"
      ]
     },
     "execution_count": 18,
     "metadata": {},
     "output_type": "execute_result"
    }
   ],
   "source": [
    "X.head()"
   ]
  },
  {
   "cell_type": "code",
   "execution_count": 19,
   "metadata": {},
   "outputs": [
    {
     "data": {
      "text/html": [
       "<div>\n",
       "<style scoped>\n",
       "    .dataframe tbody tr th:only-of-type {\n",
       "        vertical-align: middle;\n",
       "    }\n",
       "\n",
       "    .dataframe tbody tr th {\n",
       "        vertical-align: top;\n",
       "    }\n",
       "\n",
       "    .dataframe thead th {\n",
       "        text-align: right;\n",
       "    }\n",
       "</style>\n",
       "<table border=\"1\" class=\"dataframe\">\n",
       "  <thead>\n",
       "    <tr style=\"text-align: right;\">\n",
       "      <th></th>\n",
       "      <th>Distance</th>\n",
       "      <th>iOS_10</th>\n",
       "      <th>iOS_11</th>\n",
       "      <th>Country_JP</th>\n",
       "      <th>Country_UK</th>\n",
       "      <th>Country_US</th>\n",
       "    </tr>\n",
       "  </thead>\n",
       "  <tbody>\n",
       "    <tr>\n",
       "      <th>0</th>\n",
       "      <td>15</td>\n",
       "      <td>1</td>\n",
       "      <td>0</td>\n",
       "      <td>0</td>\n",
       "      <td>0</td>\n",
       "      <td>1</td>\n",
       "    </tr>\n",
       "    <tr>\n",
       "      <th>1</th>\n",
       "      <td>24</td>\n",
       "      <td>1</td>\n",
       "      <td>0</td>\n",
       "      <td>0</td>\n",
       "      <td>1</td>\n",
       "      <td>0</td>\n",
       "    </tr>\n",
       "    <tr>\n",
       "      <th>2</th>\n",
       "      <td>19</td>\n",
       "      <td>0</td>\n",
       "      <td>1</td>\n",
       "      <td>0</td>\n",
       "      <td>0</td>\n",
       "      <td>1</td>\n",
       "    </tr>\n",
       "    <tr>\n",
       "      <th>3</th>\n",
       "      <td>6</td>\n",
       "      <td>1</td>\n",
       "      <td>0</td>\n",
       "      <td>0</td>\n",
       "      <td>1</td>\n",
       "      <td>0</td>\n",
       "    </tr>\n",
       "    <tr>\n",
       "      <th>4</th>\n",
       "      <td>20</td>\n",
       "      <td>0</td>\n",
       "      <td>1</td>\n",
       "      <td>0</td>\n",
       "      <td>0</td>\n",
       "      <td>1</td>\n",
       "    </tr>\n",
       "  </tbody>\n",
       "</table>\n",
       "</div>"
      ],
      "text/plain": [
       "   Distance  iOS_10  iOS_11  Country_JP  Country_UK  Country_US\n",
       "0        15       1       0           0           0           1\n",
       "1        24       1       0           0           1           0\n",
       "2        19       0       1           0           0           1\n",
       "3         6       1       0           0           1           0\n",
       "4        20       0       1           0           0           1"
      ]
     },
     "execution_count": 19,
     "metadata": {},
     "output_type": "execute_result"
    }
   ],
   "source": [
    "X = pd.get_dummies(X)\n",
    "X.head()"
   ]
  },
  {
   "cell_type": "code",
   "execution_count": 20,
   "metadata": {},
   "outputs": [
    {
     "data": {
      "text/html": [
       "<div>\n",
       "<style scoped>\n",
       "    .dataframe tbody tr th:only-of-type {\n",
       "        vertical-align: middle;\n",
       "    }\n",
       "\n",
       "    .dataframe tbody tr th {\n",
       "        vertical-align: top;\n",
       "    }\n",
       "\n",
       "    .dataframe thead th {\n",
       "        text-align: right;\n",
       "    }\n",
       "</style>\n",
       "<table border=\"1\" class=\"dataframe\">\n",
       "  <thead>\n",
       "    <tr style=\"text-align: right;\">\n",
       "      <th></th>\n",
       "      <th>Branch</th>\n",
       "    </tr>\n",
       "  </thead>\n",
       "  <tbody>\n",
       "    <tr>\n",
       "      <th>0</th>\n",
       "      <td>0</td>\n",
       "    </tr>\n",
       "    <tr>\n",
       "      <th>1</th>\n",
       "      <td>0</td>\n",
       "    </tr>\n",
       "    <tr>\n",
       "      <th>2</th>\n",
       "      <td>0</td>\n",
       "    </tr>\n",
       "    <tr>\n",
       "      <th>3</th>\n",
       "      <td>1</td>\n",
       "    </tr>\n",
       "    <tr>\n",
       "      <th>4</th>\n",
       "      <td>0</td>\n",
       "    </tr>\n",
       "  </tbody>\n",
       "</table>\n",
       "</div>"
      ],
      "text/plain": [
       "   Branch\n",
       "0       0\n",
       "1       0\n",
       "2       0\n",
       "3       1\n",
       "4       0"
      ]
     },
     "execution_count": 20,
     "metadata": {},
     "output_type": "execute_result"
    }
   ],
   "source": [
    "le = LabelEncoder()\n",
    "le.fit(y)\n",
    "y = pd.DataFrame({'Branch':le.transform(y)})\n",
    "y.head()"
   ]
  },
  {
   "cell_type": "code",
   "execution_count": 21,
   "metadata": {},
   "outputs": [
    {
     "name": "stdout",
     "output_type": "stream",
     "text": [
      "0.987\n"
     ]
    }
   ],
   "source": [
    "clf = DecisionTreeClassifier(max_depth=2,\n",
    "                             min_samples_leaf = len(data)//100\n",
    "                            )\n",
    "clf.fit(X,y)\n",
    "print(clf.score(X, y))"
   ]
  },
  {
   "cell_type": "markdown",
   "metadata": {},
   "source": [
    "This is a really high classication score which shows that the classiffier successfully predict if a user will end of in branch 'A' or branch 'B'. This is a strong indication of high bias in our sampling."
   ]
  },
  {
   "cell_type": "code",
   "execution_count": 22,
   "metadata": {},
   "outputs": [
    {
     "data": {
      "image/png": "[encoded data removed]",
      "text/plain": [
       "<IPython.core.display.Image object>"
      ]
     },
     "execution_count": 22,
     "metadata": {},
     "output_type": "execute_result"
    }
   ],
   "source": [
    "tree = export_graphviz(clf, feature_names=X.columns, \n",
    "                       class_names=['0', '1'], filled=True, rounded=True,\n",
    "                       out_file=None, special_characters=True, rotate=True)\n",
    "\n",
    "graph = graph_from_dot_data(tree)\n",
    "Image(graph.create_png())"
   ]
  },
  {
   "cell_type": "markdown",
   "metadata": {},
   "source": [
    "Looks very interesting! It looks like there was no randomization done at all! All the users with their distance to the closest returned result less than 11.5 miles were assigned to group A and all other users were assigned to group B. Althought there are the same number of samples in each group, but this is a completely biased sampling and the experiment would not provide any meaningful conclusion.\n",
    "\n",
    "If there was somekind of randomization at least within the on of the tree splits, we could have continued our analysis for that subgroup.\n",
    "\n",
    "Another insight that we can get from the data is that the users in Japan were closer to their desitication compare to users in UK and USA. This is in agreement with the higher population density in Japan.\n",
    "\n",
    "We could also continue this analysis and check for what aer the majority of iOS version in each country."
   ]
  },
  {
   "cell_type": "code",
   "execution_count": null,
   "metadata": {},
   "outputs": [],
   "source": []
  }
 ],
 "metadata": {
  "kernelspec": {
   "display_name": "Python 2",
   "language": "python",
   "name": "python2"
  },
  "language_info": {
   "codemirror_mode": {
    "name": "ipython",
    "version": 2
   },
   "file_extension": ".py",
   "mimetype": "text/x-python",
   "name": "python",
   "nbconvert_exporter": "python",
   "pygments_lexer": "ipython2",
   "version": "2.7.15"
  }
 },
 "nbformat": 4,
 "nbformat_minor": 2
}
